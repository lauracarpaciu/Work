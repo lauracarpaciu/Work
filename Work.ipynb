{
 "cells": [
  {
   "cell_type": "code",
   "execution_count": 63,
   "metadata": {},
   "outputs": [
    {
     "name": "stdout",
     "output_type": "stream",
     "text": [
      "Requirement already satisfied: pandas in c:\\users\\mirela\\anaconda3\\envs\\tensorflow\\lib\\site-packages (2.0.3)Note: you may need to restart the kernel to use updated packages.\n"
     ]
    },
    {
     "name": "stderr",
     "output_type": "stream",
     "text": [
      "Error processing line 1 of c:\\Users\\Mirela\\anaconda3\\envs\\tensorflow\\lib\\site-packages\\matplotlib-3.7.5-py3.8-nspkg.pth:\n",
      "\n",
      "  Traceback (most recent call last):\n",
      "    File \"c:\\Users\\Mirela\\anaconda3\\envs\\tensorflow\\lib\\site.py\", line 177, in addpackage\n",
      "      exec(line)\n",
      "    File \"<string>\", line 1, in <module>\n",
      "    File \"<frozen importlib._bootstrap>\", line 553, in module_from_spec\n",
      "  AttributeError: 'NoneType' object has no attribute 'loader'\n",
      "\n",
      "Remainder of file ignored\n"
     ]
    },
    {
     "name": "stdout",
     "output_type": "stream",
     "text": [
      "\n",
      "Requirement already satisfied: python-dateutil>=2.8.2 in c:\\users\\mirela\\anaconda3\\envs\\tensorflow\\lib\\site-packages (from pandas) (2.9.0)\n",
      "Requirement already satisfied: pytz>=2020.1 in c:\\users\\mirela\\anaconda3\\envs\\tensorflow\\lib\\site-packages (from pandas) (2025.1)\n",
      "Requirement already satisfied: tzdata>=2022.1 in c:\\users\\mirela\\anaconda3\\envs\\tensorflow\\lib\\site-packages (from pandas) (2025.1)\n",
      "Requirement already satisfied: numpy>=1.20.3 in c:\\users\\mirela\\anaconda3\\envs\\tensorflow\\lib\\site-packages (from pandas) (1.24.3)\n",
      "Requirement already satisfied: six>=1.5 in c:\\users\\mirela\\anaconda3\\envs\\tensorflow\\lib\\site-packages (from python-dateutil>=2.8.2->pandas) (1.16.0)\n",
      "Collecting sklearnNote: you may need to restart the kernel to use updated packages.\n",
      "\n",
      "  Using cached sklearn-0.0.post12.tar.gz (2.6 kB)\n",
      "  Preparing metadata (setup.py): started\n",
      "  Preparing metadata (setup.py): finished with status 'error'\n"
     ]
    },
    {
     "name": "stderr",
     "output_type": "stream",
     "text": [
      "Error processing line 1 of c:\\Users\\Mirela\\anaconda3\\envs\\tensorflow\\lib\\site-packages\\matplotlib-3.7.5-py3.8-nspkg.pth:\n",
      "\n",
      "  Traceback (most recent call last):\n",
      "    File \"c:\\Users\\Mirela\\anaconda3\\envs\\tensorflow\\lib\\site.py\", line 177, in addpackage\n",
      "      exec(line)\n",
      "    File \"<string>\", line 1, in <module>\n",
      "    File \"<frozen importlib._bootstrap>\", line 553, in module_from_spec\n",
      "  AttributeError: 'NoneType' object has no attribute 'loader'\n",
      "\n",
      "Remainder of file ignored\n",
      "  error: subprocess-exited-with-error\n",
      "  \n",
      "  × python setup.py egg_info did not run successfully.\n",
      "  │ exit code: 1\n",
      "  ╰─> [25 lines of output]\n",
      "      Error processing line 1 of c:\\Users\\Mirela\\anaconda3\\envs\\tensorflow\\lib\\site-packages\\matplotlib-3.7.5-py3.8-nspkg.pth:\n",
      "      \n",
      "        Traceback (most recent call last):\n",
      "          File \"c:\\Users\\Mirela\\anaconda3\\envs\\tensorflow\\lib\\site.py\", line 177, in addpackage\n",
      "            exec(line)\n",
      "          File \"<string>\", line 1, in <module>\n",
      "          File \"<frozen importlib._bootstrap>\", line 553, in module_from_spec\n",
      "        AttributeError: 'NoneType' object has no attribute 'loader'\n",
      "      \n",
      "      Remainder of file ignored\n",
      "      The 'sklearn' PyPI package is deprecated, use 'scikit-learn'\n",
      "      rather than 'sklearn' for pip commands.\n",
      "      \n",
      "      Here is how to fix this error in the main use cases:\n",
      "      - use 'pip install scikit-learn' rather than 'pip install sklearn'\n",
      "      - replace 'sklearn' by 'scikit-learn' in your pip requirements files\n",
      "        (requirements.txt, setup.py, setup.cfg, Pipfile, etc ...)\n",
      "      - if the 'sklearn' package is used by one of your dependencies,\n",
      "        it would be great if you take some time to track which package uses\n",
      "        'sklearn' instead of 'scikit-learn' and report it to their issue tracker\n",
      "      - as a last resort, set the environment variable\n",
      "        SKLEARN_ALLOW_DEPRECATED_SKLEARN_PACKAGE_INSTALL=True to avoid this error\n",
      "      \n",
      "      More information is available at\n",
      "      https://github.com/scikit-learn/sklearn-pypi-package\n",
      "      [end of output]\n",
      "  \n",
      "  note: This error originates from a subprocess, and is likely not a problem with pip.\n",
      "error: metadata-generation-failed\n",
      "\n",
      "× Encountered error while generating package metadata.\n",
      "╰─> See above for output.\n",
      "\n",
      "note: This is an issue with the package mentioned above, not pip.\n",
      "hint: See above for details.\n"
     ]
    },
    {
     "name": "stdout",
     "output_type": "stream",
     "text": [
      "Requirement already satisfied: scikit-learn in c:\\users\\mirela\\anaconda3\\envs\\tensorflow\\lib\\site-packages (1.3.2)\n",
      "Requirement already satisfied: numpy<2.0,>=1.17.3 in c:\\users\\mirela\\anaconda3\\envs\\tensorflow\\lib\\site-packages (from scikit-learn) (1.24.3)\n",
      "Requirement already satisfied: scipy>=1.5.0 in c:\\users\\mirela\\anaconda3\\envs\\tensorflow\\lib\\site-packages (from scikit-learn) (1.10.1)\n",
      "Requirement already satisfied: joblib>=1.1.1 in c:\\users\\mirela\\anaconda3\\envs\\tensorflow\\lib\\site-packages (from scikit-learn) (1.4.2)\n",
      "Requirement already satisfied: threadpoolctl>=2.0.0 in c:\\users\\mirela\\anaconda3\\envs\\tensorflow\\lib\\site-packages (from scikit-learn) (3.5.0)\n",
      "Note: you may need to restart the kernel to use updated packages.\n"
     ]
    },
    {
     "name": "stderr",
     "output_type": "stream",
     "text": [
      "Error processing line 1 of c:\\Users\\Mirela\\anaconda3\\envs\\tensorflow\\lib\\site-packages\\matplotlib-3.7.5-py3.8-nspkg.pth:\n",
      "\n",
      "  Traceback (most recent call last):\n",
      "    File \"c:\\Users\\Mirela\\anaconda3\\envs\\tensorflow\\lib\\site.py\", line 177, in addpackage\n",
      "      exec(line)\n",
      "    File \"<string>\", line 1, in <module>\n",
      "    File \"<frozen importlib._bootstrap>\", line 553, in module_from_spec\n",
      "  AttributeError: 'NoneType' object has no attribute 'loader'\n",
      "\n",
      "Remainder of file ignored\n"
     ]
    }
   ],
   "source": [
    "import tensorflow as tf\n",
    "%pip install pandas\n",
    "%pip install sklearn\n",
    "import pandas as pd\n",
    "from detection import isbn_utils\n",
    "%pip install scikit-learn"
   ]
  },
  {
   "cell_type": "code",
   "execution_count": 64,
   "metadata": {},
   "outputs": [
    {
     "name": "stdout",
     "output_type": "stream",
     "text": [
      "base directory: ./S1\n",
      "\n",
      "data: ./S1/data\n",
      "model: ./S1/model\n",
      "vocab: ./S1/vocab\n",
      "\n"
     ]
    }
   ],
   "source": [
    "BASE_DIR = './S1'\n",
    "\n",
    "# Get the subdirectories that contain the experiment files\n",
    "data, model, vocab = isbn_utils.set_experiment_dirs(BASE_DIR)\n",
    "\n",
    "print(\n",
    "    f'base directory: {BASE_DIR}\\n\\n'\n",
    "    f'data: {data}\\n'\n",
    "    f'model: {model}\\n'\n",
    "    f'vocab: {vocab}\\n'\n",
    ")"
   ]
  },
  {
   "cell_type": "code",
   "execution_count": 65,
   "metadata": {},
   "outputs": [
    {
     "data": {
      "text/html": [
       "<div>\n",
       "<style scoped>\n",
       "    .dataframe tbody tr th:only-of-type {\n",
       "        vertical-align: middle;\n",
       "    }\n",
       "\n",
       "    .dataframe tbody tr th {\n",
       "        vertical-align: top;\n",
       "    }\n",
       "\n",
       "    .dataframe thead th {\n",
       "        text-align: right;\n",
       "    }\n",
       "</style>\n",
       "<table border=\"1\" class=\"dataframe\">\n",
       "  <thead>\n",
       "    <tr style=\"text-align: right;\">\n",
       "      <th></th>\n",
       "      <th>title</th>\n",
       "      <th>link</th>\n",
       "      <th>domain</th>\n",
       "      <th>published_date</th>\n",
       "      <th>topic</th>\n",
       "    </tr>\n",
       "  </thead>\n",
       "  <tbody>\n",
       "    <tr>\n",
       "      <th>0</th>\n",
       "      <td>NSW remains on COVID-19 high alert | The Star | Newcastle, NSW</td>\n",
       "      <td>https://www.newcastlestar.com.au/story/6878465/nsw-remains-on-covid-19-high-alert/?cs=7</td>\n",
       "      <td>newcastlestar.com.au</td>\n",
       "      <td>2020-08-13 17:32:28</td>\n",
       "      <td>HEALTH</td>\n",
       "    </tr>\n",
       "    <tr>\n",
       "      <th>1</th>\n",
       "      <td>Missing people: How does someone just disappear?</td>\n",
       "      <td>https://www.bbc.co.uk/news/uk-england-cambridgeshire-53648599</td>\n",
       "      <td>bbc.co.uk</td>\n",
       "      <td>2020-08-04 15:56:20</td>\n",
       "      <td>NATION</td>\n",
       "    </tr>\n",
       "    <tr>\n",
       "      <th>2</th>\n",
       "      <td>An American Pickle review: In a dual role, Seth Rogen’s drama wins over comedy</td>\n",
       "      <td>https://www.polygon.com/2020/8/6/21357120/american-pickle-review-movie-seth-rogen-simon-rich-hbo-max</td>\n",
       "      <td>polygon.com</td>\n",
       "      <td>2020-08-06 15:58:22</td>\n",
       "      <td>ENTERTAINMENT</td>\n",
       "    </tr>\n",
       "    <tr>\n",
       "      <th>3</th>\n",
       "      <td>Katie Spotz to Run 130 Miles to Bring Clean Water to Tanzania, Shares Testimony of Change</td>\n",
       "      <td>http://www.christianitydaily.com/articles/9647/20200807/katie-spotz-run-130-miles-bring-clean-water-tanzania-shares.htm</td>\n",
       "      <td>christianitydaily.com</td>\n",
       "      <td>2020-08-07 19:45:00</td>\n",
       "      <td>NATION</td>\n",
       "    </tr>\n",
       "    <tr>\n",
       "      <th>4</th>\n",
       "      <td>CDC Director Says This Fall Could Be ‘the Worst’ We’ve Ever Had Thanks to COVID-19</td>\n",
       "      <td>https://www.self.com/story/worst-fall-ever-covid</td>\n",
       "      <td>self.com</td>\n",
       "      <td>2020-08-13 19:37:52</td>\n",
       "      <td>HEALTH</td>\n",
       "    </tr>\n",
       "    <tr>\n",
       "      <th>5</th>\n",
       "      <td>Free water and electricity may be counterproductive – Economist</td>\n",
       "      <td>https://www.ghanaweb.com/GhanaHomePage/NewsArchive/Free-water-and-electricity-may-be-counterproductive-Economist-1031098</td>\n",
       "      <td>ghanaweb.com</td>\n",
       "      <td>2020-08-11 13:25:37</td>\n",
       "      <td>NATION</td>\n",
       "    </tr>\n",
       "    <tr>\n",
       "      <th>6</th>\n",
       "      <td>State places Tazewell County on COVID-19 warning list</td>\n",
       "      <td>https://week.com/2020/08/07/state-places-tazewell-county-on-covid-19-warning-list/</td>\n",
       "      <td>week.com</td>\n",
       "      <td>2020-08-07 18:00:24</td>\n",
       "      <td>HEALTH</td>\n",
       "    </tr>\n",
       "    <tr>\n",
       "      <th>7</th>\n",
       "      <td>Over 100 people quarantined in Mississippi school district after several test positive for coronavirus</td>\n",
       "      <td>https://www.nbcnews.com/news/us-news/over-100-people-quarantined-mississippi-school-district-after-several-test-n1236012</td>\n",
       "      <td>nbcnews.com</td>\n",
       "      <td>2020-08-06 16:35:00</td>\n",
       "      <td>NATION</td>\n",
       "    </tr>\n",
       "    <tr>\n",
       "      <th>8</th>\n",
       "      <td>How global warming is wiping out Africa's oldest baobab trees</td>\n",
       "      <td>http://www.capetalk.co.za/articles/307750/how-global-warming-is-wiping-out-africa-s-oldest-baobab-trees</td>\n",
       "      <td>capetalk.co.za</td>\n",
       "      <td>2018-06-14 12:00:53</td>\n",
       "      <td>WORLD</td>\n",
       "    </tr>\n",
       "    <tr>\n",
       "      <th>9</th>\n",
       "      <td>Delay routine dental checkups, WHO urges, until COVID risk is known</td>\n",
       "      <td>https://www.thepeninsulaqatar.com/article/11/08/2020/Delay-routine-dental-checkups,-WHO-urges,-until-COVID-risk-is-known</td>\n",
       "      <td>thepeninsulaqatar.com</td>\n",
       "      <td>2020-08-11 17:13:00</td>\n",
       "      <td>HEALTH</td>\n",
       "    </tr>\n",
       "  </tbody>\n",
       "</table>\n",
       "</div>"
      ],
      "text/plain": [
       "                                                                                                    title  \\\n",
       "0                                          NSW remains on COVID-19 high alert | The Star | Newcastle, NSW   \n",
       "1                                                        Missing people: How does someone just disappear?   \n",
       "2                          An American Pickle review: In a dual role, Seth Rogen’s drama wins over comedy   \n",
       "3               Katie Spotz to Run 130 Miles to Bring Clean Water to Tanzania, Shares Testimony of Change   \n",
       "4                      CDC Director Says This Fall Could Be ‘the Worst’ We’ve Ever Had Thanks to COVID-19   \n",
       "5                                         Free water and electricity may be counterproductive – Economist   \n",
       "6                                                   State places Tazewell County on COVID-19 warning list   \n",
       "7  Over 100 people quarantined in Mississippi school district after several test positive for coronavirus   \n",
       "8                                           How global warming is wiping out Africa's oldest baobab trees   \n",
       "9                                     Delay routine dental checkups, WHO urges, until COVID risk is known   \n",
       "\n",
       "                                                                                                                       link  \\\n",
       "0                                   https://www.newcastlestar.com.au/story/6878465/nsw-remains-on-covid-19-high-alert/?cs=7   \n",
       "1                                                             https://www.bbc.co.uk/news/uk-england-cambridgeshire-53648599   \n",
       "2                      https://www.polygon.com/2020/8/6/21357120/american-pickle-review-movie-seth-rogen-simon-rich-hbo-max   \n",
       "3   http://www.christianitydaily.com/articles/9647/20200807/katie-spotz-run-130-miles-bring-clean-water-tanzania-shares.htm   \n",
       "4                                                                          https://www.self.com/story/worst-fall-ever-covid   \n",
       "5  https://www.ghanaweb.com/GhanaHomePage/NewsArchive/Free-water-and-electricity-may-be-counterproductive-Economist-1031098   \n",
       "6                                        https://week.com/2020/08/07/state-places-tazewell-county-on-covid-19-warning-list/   \n",
       "7  https://www.nbcnews.com/news/us-news/over-100-people-quarantined-mississippi-school-district-after-several-test-n1236012   \n",
       "8                   http://www.capetalk.co.za/articles/307750/how-global-warming-is-wiping-out-africa-s-oldest-baobab-trees   \n",
       "9  https://www.thepeninsulaqatar.com/article/11/08/2020/Delay-routine-dental-checkups,-WHO-urges,-until-COVID-risk-is-known   \n",
       "\n",
       "                  domain       published_date          topic  \n",
       "0   newcastlestar.com.au  2020-08-13 17:32:28         HEALTH  \n",
       "1              bbc.co.uk  2020-08-04 15:56:20         NATION  \n",
       "2            polygon.com  2020-08-06 15:58:22  ENTERTAINMENT  \n",
       "3  christianitydaily.com  2020-08-07 19:45:00         NATION  \n",
       "4               self.com  2020-08-13 19:37:52         HEALTH  \n",
       "5           ghanaweb.com  2020-08-11 13:25:37         NATION  \n",
       "6               week.com  2020-08-07 18:00:24         HEALTH  \n",
       "7            nbcnews.com  2020-08-06 16:35:00         NATION  \n",
       "8         capetalk.co.za  2018-06-14 12:00:53          WORLD  \n",
       "9  thepeninsulaqatar.com  2020-08-11 17:13:00         HEALTH  "
      ]
     },
     "execution_count": 65,
     "metadata": {},
     "output_type": "execute_result"
    }
   ],
   "source": [
    "pd.set_option('display.max_colwidth', None)\n",
    "\n",
    "# Load the datasets into dataframes\n",
    "train_df = pd.read_csv(f'{data}/train_data.csv')\n",
    "test_df = pd.read_csv(f'{data}/test_data.csv')\n",
    "\n",
    "# Preview the first 10 rows of the training set\n",
    "train_df[:10]"
   ]
  },
  {
   "cell_type": "code",
   "execution_count": 66,
   "metadata": {},
   "outputs": [
    {
     "data": {
      "text/html": [
       "<div>\n",
       "<style scoped>\n",
       "    .dataframe tbody tr th:only-of-type {\n",
       "        vertical-align: middle;\n",
       "    }\n",
       "\n",
       "    .dataframe tbody tr th {\n",
       "        vertical-align: top;\n",
       "    }\n",
       "\n",
       "    .dataframe thead th {\n",
       "        text-align: right;\n",
       "    }\n",
       "</style>\n",
       "<table border=\"1\" class=\"dataframe\">\n",
       "  <thead>\n",
       "    <tr style=\"text-align: right;\">\n",
       "      <th></th>\n",
       "      <th>title</th>\n",
       "      <th>topic</th>\n",
       "    </tr>\n",
       "  </thead>\n",
       "  <tbody>\n",
       "    <tr>\n",
       "      <th>30</th>\n",
       "      <td>28% Fall in Mumbai's Home Isolation Cases, 62% Drop in Institutional Quarantine as Covid Curve Plateaus</td>\n",
       "      <td>NATION</td>\n",
       "    </tr>\n",
       "    <tr>\n",
       "      <th>31</th>\n",
       "      <td>Sniffer dogs begin trials to detect Covid</td>\n",
       "      <td>HEALTH</td>\n",
       "    </tr>\n",
       "    <tr>\n",
       "      <th>32</th>\n",
       "      <td>Seth Rogen says Marvel blockbusters make it difficult for comedy films</td>\n",
       "      <td>ENTERTAINMENT</td>\n",
       "    </tr>\n",
       "    <tr>\n",
       "      <th>33</th>\n",
       "      <td>Farewell to Pete Way, the debauched bassist with a frontman's swagger</td>\n",
       "      <td>ENTERTAINMENT</td>\n",
       "    </tr>\n",
       "    <tr>\n",
       "      <th>34</th>\n",
       "      <td>Poo detectives on the COVID-19 frontline</td>\n",
       "      <td>HEALTH</td>\n",
       "    </tr>\n",
       "    <tr>\n",
       "      <th>35</th>\n",
       "      <td>Fortnite maker challenges Apple and Google's app store rules through direct-payment discounts</td>\n",
       "      <td>TECHNOLOGY</td>\n",
       "    </tr>\n",
       "    <tr>\n",
       "      <th>36</th>\n",
       "      <td>Why iPhone 12 Will Be Another 'Defining Chapter' In Apple's Growth Story</td>\n",
       "      <td>BUSINESS</td>\n",
       "    </tr>\n",
       "    <tr>\n",
       "      <th>37</th>\n",
       "      <td>Forex auction bolsters productive sector</td>\n",
       "      <td>NATION</td>\n",
       "    </tr>\n",
       "    <tr>\n",
       "      <th>38</th>\n",
       "      <td>Intel Tiger Lake could outrun AMD Ryzen 4000 in single-core performance</td>\n",
       "      <td>TECHNOLOGY</td>\n",
       "    </tr>\n",
       "    <tr>\n",
       "      <th>39</th>\n",
       "      <td>Rappi delivery workers in Colombia's Bogota strike over conditions</td>\n",
       "      <td>TECHNOLOGY</td>\n",
       "    </tr>\n",
       "  </tbody>\n",
       "</table>\n",
       "</div>"
      ],
      "text/plain": [
       "                                                                                                      title  \\\n",
       "30  28% Fall in Mumbai's Home Isolation Cases, 62% Drop in Institutional Quarantine as Covid Curve Plateaus   \n",
       "31                                                                Sniffer dogs begin trials to detect Covid   \n",
       "32                                   Seth Rogen says Marvel blockbusters make it difficult for comedy films   \n",
       "33                                    Farewell to Pete Way, the debauched bassist with a frontman's swagger   \n",
       "34                                                                 Poo detectives on the COVID-19 frontline   \n",
       "35            Fortnite maker challenges Apple and Google's app store rules through direct-payment discounts   \n",
       "36                                 Why iPhone 12 Will Be Another 'Defining Chapter' In Apple's Growth Story   \n",
       "37                                                                 Forex auction bolsters productive sector   \n",
       "38                                  Intel Tiger Lake could outrun AMD Ryzen 4000 in single-core performance   \n",
       "39                                       Rappi delivery workers in Colombia's Bogota strike over conditions   \n",
       "\n",
       "            topic  \n",
       "30         NATION  \n",
       "31         HEALTH  \n",
       "32  ENTERTAINMENT  \n",
       "33  ENTERTAINMENT  \n",
       "34         HEALTH  \n",
       "35     TECHNOLOGY  \n",
       "36       BUSINESS  \n",
       "37         NATION  \n",
       "38     TECHNOLOGY  \n",
       "39     TECHNOLOGY  "
      ]
     },
     "execution_count": 66,
     "metadata": {},
     "output_type": "execute_result"
    }
   ],
   "source": [
    "# Indices of the dataframe to use\n",
    "start_index = 30\n",
    "end_index = 40\n",
    "\n",
    "# Sample titles to label\n",
    "train_df[['title']][start_index:end_index]\n",
    "\n",
    "# # When you're done, uncomment the next line to see the 'true' labels \n",
    "train_df[['title', 'topic']][start_index:end_index]"
   ]
  },
  {
   "cell_type": "code",
   "execution_count": 67,
   "metadata": {},
   "outputs": [
    {
     "name": "stdout",
     "output_type": "stream",
     "text": [
      "Model: \"sequential_1\"\n",
      "_________________________________________________________________\n",
      " Layer (type)                Output Shape              Param #   \n",
      "=================================================================\n",
      " embedding_1 (Embedding)     (None, 20, 24)            240000    \n",
      "                                                                 \n",
      " dense_2 (Dense)             (None, 20, 24)            600       \n",
      "                                                                 \n",
      " flatten_1 (Flatten)         (None, 480)               0         \n",
      "                                                                 \n",
      " dense_3 (Dense)             (None, 8)                 3848      \n",
      "                                                                 \n",
      "=================================================================\n",
      "Total params: 244448 (954.88 KB)\n",
      "Trainable params: 244448 (954.88 KB)\n",
      "Non-trainable params: 0 (0.00 Byte)\n",
      "_________________________________________________________________\n"
     ]
    }
   ],
   "source": [
    "# Load the model\n",
    "model = tf.keras.models.load_model(model)\n",
    "\n",
    "# Show the model architecture\n",
    "model.summary()"
   ]
  },
  {
   "cell_type": "code",
   "execution_count": 68,
   "metadata": {},
   "outputs": [
    {
     "data": {
      "text/plain": [
       "{'optimizer': {'module': 'keras.optimizers',\n",
       "  'class_name': 'Adam',\n",
       "  'config': {'name': 'Adam',\n",
       "   'weight_decay': None,\n",
       "   'clipnorm': None,\n",
       "   'global_clipnorm': None,\n",
       "   'clipvalue': None,\n",
       "   'use_ema': False,\n",
       "   'ema_momentum': 0.99,\n",
       "   'ema_overwrite_frequency': None,\n",
       "   'jit_compile': False,\n",
       "   'is_legacy_optimizer': False,\n",
       "   'learning_rate': 0.0010000000474974513,\n",
       "   'beta_1': 0.9,\n",
       "   'beta_2': 0.999,\n",
       "   'epsilon': 1e-07,\n",
       "   'amsgrad': False},\n",
       "  'registered_name': None},\n",
       " 'loss': {'module': 'builtins',\n",
       "  'class_name': 'function',\n",
       "  'config': 'sparse_categorical_crossentropy',\n",
       "  'registered_name': 'function'},\n",
       " 'metrics': [[{'module': 'keras.metrics',\n",
       "    'class_name': 'MeanMetricWrapper',\n",
       "    'config': {'name': 'sparse_categorical_accuracy',\n",
       "     'dtype': 'float32',\n",
       "     'fn': {'module': 'builtins',\n",
       "      'class_name': 'function',\n",
       "      'config': 'sparse_categorical_accuracy',\n",
       "      'registered_name': 'function'}},\n",
       "    'registered_name': None}]],\n",
       " 'loss_weights': None,\n",
       " 'weighted_metrics': None,\n",
       " 'run_eagerly': None,\n",
       " 'steps_per_execution': None,\n",
       " 'jit_compile': None}"
      ]
     },
     "execution_count": 68,
     "metadata": {},
     "output_type": "execute_result"
    }
   ],
   "source": [
    "# Get info about compiling the model\n",
    "model.get_compile_config()"
   ]
  },
  {
   "cell_type": "code",
   "execution_count": 69,
   "metadata": {},
   "outputs": [
    {
     "data": {
      "text/plain": [
       "['ENTERTAINMENT',\n",
       " 'HEALTH',\n",
       " 'TECHNOLOGY',\n",
       " 'WORLD',\n",
       " 'BUSINESS',\n",
       " 'SPORTS',\n",
       " 'NATION',\n",
       " 'SCIENCE']"
      ]
     },
     "execution_count": 69,
     "metadata": {},
     "output_type": "execute_result"
    }
   ],
   "source": [
    "# Create a lookup list for the labels\n",
    "topic_lookup = tf.keras.layers.StringLookup(vocabulary=f'{vocab}/labels.txt', num_oov_indices=0)\n",
    "\n",
    "# Check the list of labels\n",
    "topic_lookup.get_vocabulary()"
   ]
  },
  {
   "cell_type": "code",
   "execution_count": 70,
   "metadata": {},
   "outputs": [
    {
     "name": "stdout",
     "output_type": "stream",
     "text": [
      "vocabulary size: 10000\n",
      "sample text: Dengue fever cases in Laos rise to 4256\n",
      "sample text (preprocessed): [4040 1979   30    2 9339  282    3    1    0    0    0    0    0    0\n",
      "    0    0    0    0    0    0]\n"
     ]
    }
   ],
   "source": [
    "# Title length and vocabulary size used by the team for the prototype\n",
    "MAX_LENGTH = 20\n",
    "VOCAB_SIZE = 10000\n",
    "\n",
    "# Instantiate a layer for text preprocessing\n",
    "title_preprocessor = tf.keras.layers.TextVectorization(max_tokens=VOCAB_SIZE, output_sequence_length=MAX_LENGTH)\n",
    "\n",
    "# Load the vocabulary file\n",
    "title_preprocessor.load_assets(vocab)\n",
    "\n",
    "# Check the vocabulary size\n",
    "print(f'vocabulary size: {title_preprocessor.vocabulary_size()}')\n",
    "\n",
    "# Get a sample title\n",
    "sample_title = train_df['title'][10]\n",
    "\n",
    "# Sample title in string format\n",
    "print(f\"sample text: {sample_title}\")\n",
    "\n",
    "# Sample title represented as an integer sequence\n",
    "print(f\"sample text (preprocessed): {title_preprocessor(sample_title)}\")"
   ]
  },
  {
   "cell_type": "code",
   "execution_count": 71,
   "metadata": {},
   "outputs": [
    {
     "name": "stdout",
     "output_type": "stream",
     "text": [
      "763/763 [==============================] - 4s 3ms/step - loss: 1.0202 - sparse_categorical_accuracy: 0.7778\n"
     ]
    },
    {
     "data": {
      "text/plain": [
       "[1.020175576210022, 0.7778187394142151]"
      ]
     },
     "execution_count": 71,
     "metadata": {},
     "output_type": "execute_result"
    }
   ],
   "source": [
    "# Convert the test dataframe to a tf dataset\n",
    "test_ds = isbn_utils.df_to_tfdata(test_df, topic_lookup, title_preprocessor)\n",
    "\n",
    "# Get the metrics\n",
    "model.evaluate(test_ds)"
   ]
  },
  {
   "cell_type": "code",
   "execution_count": 72,
   "metadata": {},
   "outputs": [],
   "source": [
    "from sklearn.model_selection import train_test_split\n",
    "# Load the train and test sets\n",
    "train_df = pd.read_csv(f'{data}/train_data.csv')\n",
    "test_df = pd.read_csv(f'{data}/test_data.csv')\n",
    "\n",
    "# Combine the two datasets. Set ignore_index to False.\n",
    "combined_df = pd.concat([train_df,test_df], ignore_index=True)\n",
    "\n",
    "# Split the combined dataset to 60% train, 20% dev, and 20% test set. Produce a balanced split along the `topic` column.\n",
    "train_df, test_df = train_test_split(combined_df, test_size=0.2, stratify=combined_df['topic'])\n",
    "train_df, dev_df = train_test_split(train_df, test_size=0.25, stratify=train_df['topic'])\n"
   ]
  },
  {
   "cell_type": "code",
   "execution_count": 73,
   "metadata": {},
   "outputs": [],
   "source": [
    "BASE_DIR = './S2'\n",
    "\n",
    "# Set the subdirectories that will contain the experiment files\n",
    "data, model, vocab = isbn_utils.set_experiment_dirs(BASE_DIR)\n",
    "\n",
    "# Save the datasets\n",
    "isbn_utils.save_data(train_df, data, 'train_data.csv')\n",
    "isbn_utils.save_data(dev_df, data, 'dev_data.csv')\n",
    "isbn_utils.save_data(test_df, data, 'test_data.csv')\n",
    "\n",
    "# Save the labels\n",
    "isbn_utils.save_labels(topic_lookup, vocab)"
   ]
  },
  {
   "cell_type": "code",
   "execution_count": 74,
   "metadata": {},
   "outputs": [],
   "source": [
    "import tensorflow as tf\n",
    "import pandas as pd\n",
    "from sklearn.model_selection import train_test_split"
   ]
  },
  {
   "cell_type": "code",
   "execution_count": 75,
   "metadata": {},
   "outputs": [],
   "source": [
    "\n",
    "import tensorflow as tf\n",
    "import pandas as pd\n",
    "from sklearn.model_selection import train_test_split\n",
    "\n",
    "# Working folder for the experiment\n",
    "BASE_DIR = './S1'\n",
    "\n",
    "# Get the subdirectories that contain the experiment files\n",
    "_, model_d, _ = isbn_utils.set_experiment_dirs(BASE_DIR)\n",
    "\n",
    "# Load the model\n",
    "model = tf.keras.models.load_model(model_d)\n",
    "\n",
    "# Working folder for the experiment\n",
    "BASE_DIR = './S2'\n",
    "\n",
    "# Title length and vocabulary size \n",
    "MAX_LENGTH = 20\n",
    "VOCAB_SIZE = 10000\n",
    "\n",
    "# Get the subdirectories that contain the experiment files\n",
    "data_d, model_d, vocab_d = isbn_utils.set_experiment_dirs(BASE_DIR)\n",
    "\n",
    "# Load the train and test sets\n",
    "train_df = pd.read_csv(f'{data_d}/train_data.csv')\n",
    "dev_df = pd.read_csv(f'{data_d}/dev_data.csv')\n",
    "test_df = pd.read_csv(f'{data_d}/test_data.csv')\n",
    "\n",
    "# Instantiate a layer for text preprocessing\n",
    "title_preprocessor = tf.keras.layers.TextVectorization(max_tokens=VOCAB_SIZE, output_sequence_length=MAX_LENGTH)\n",
    "\n",
    "# Create a lookup list for the labels\n",
    "topic_lookup = tf.keras.layers.StringLookup(vocabulary=f'{vocab_d}/labels.txt', num_oov_indices=0)"
   ]
  },
  {
   "cell_type": "code",
   "execution_count": 76,
   "metadata": {},
   "outputs": [],
   "source": [
    "# Extract the titles from the new training set\n",
    "train_inputs = train_df['title']\n",
    "\n",
    "# Generate a new vocabulary\n",
    "title_preprocessor.adapt(train_inputs)\n",
    "\n",
    "# Save the new vocabulary\n",
    "isbn_utils.save_vocab(title_preprocessor, vocab)"
   ]
  },
  {
   "cell_type": "code",
   "execution_count": 77,
   "metadata": {},
   "outputs": [
    {
     "name": "stdout",
     "output_type": "stream",
     "text": [
      "Epoch 1/5\n"
     ]
    },
    {
     "name": "stderr",
     "output_type": "stream",
     "text": [
      "c:\\Users\\Mirela\\anaconda3\\envs\\tensorflow\\lib\\site-packages\\keras\\src\\initializers\\initializers.py:120: UserWarning: The initializer RandomUniform is unseeded and being called multiple times, which will return identical values each time (even if the initializer is unseeded). Please update your code to provide a seed to the initializer, or avoid using the same initializer instance more than once.\n",
      "  warnings.warn(\n",
      "c:\\Users\\Mirela\\anaconda3\\envs\\tensorflow\\lib\\site-packages\\keras\\src\\initializers\\initializers.py:120: UserWarning: The initializer GlorotUniform is unseeded and being called multiple times, which will return identical values each time (even if the initializer is unseeded). Please update your code to provide a seed to the initializer, or avoid using the same initializer instance more than once.\n",
      "  warnings.warn(\n"
     ]
    },
    {
     "name": "stdout",
     "output_type": "stream",
     "text": [
      "2040/2040 [==============================] - 10s 4ms/step - loss: 0.9026 - sparse_categorical_accuracy: 0.6786 - val_loss: 0.5681 - val_sparse_categorical_accuracy: 0.8069\n",
      "Epoch 2/5\n",
      "2040/2040 [==============================] - 9s 4ms/step - loss: 0.4431 - sparse_categorical_accuracy: 0.8482 - val_loss: 0.5245 - val_sparse_categorical_accuracy: 0.8217\n",
      "Epoch 3/5\n",
      "2040/2040 [==============================] - 8s 4ms/step - loss: 0.3490 - sparse_categorical_accuracy: 0.8806 - val_loss: 0.5457 - val_sparse_categorical_accuracy: 0.8200\n",
      "Epoch 4/5\n",
      "2040/2040 [==============================] - 9s 5ms/step - loss: 0.2891 - sparse_categorical_accuracy: 0.9021 - val_loss: 0.5882 - val_sparse_categorical_accuracy: 0.8166\n",
      "Epoch 5/5\n",
      "2040/2040 [==============================] - 9s 4ms/step - loss: 0.2405 - sparse_categorical_accuracy: 0.9202 - val_loss: 0.6505 - val_sparse_categorical_accuracy: 0.8129\n"
     ]
    },
    {
     "data": {
      "text/plain": [
       "<keras.src.callbacks.History at 0x1d521c13790>"
      ]
     },
     "execution_count": 77,
     "metadata": {},
     "output_type": "execute_result"
    }
   ],
   "source": [
    "NUM_EPOCHS = 5\n",
    "\n",
    "# Convert the string datasets to Tensorflow datasets\n",
    "train_ds = isbn_utils.df_to_tfdata(train_df, topic_lookup, title_preprocessor, shuffle=True)\n",
    "dev_ds = isbn_utils.df_to_tfdata(dev_df, topic_lookup, title_preprocessor)\n",
    "test_ds = isbn_utils.df_to_tfdata(test_df, topic_lookup, title_preprocessor)\n",
    "\n",
    "# Reset the model weights\n",
    "model = isbn_utils.model_reset_weights(model)\n",
    "\n",
    "# Train the model. Use the dev set to check if your model is overfitting.\n",
    "model.fit(train_ds, epochs=NUM_EPOCHS, validation_data=dev_ds, verbose=1)\n"
   ]
  },
  {
   "cell_type": "code",
   "execution_count": 78,
   "metadata": {},
   "outputs": [
    {
     "name": "stdout",
     "output_type": "stream",
     "text": [
      "680/680 [==============================] - 1s 2ms/step - loss: 0.6582 - sparse_categorical_accuracy: 0.8066\n"
     ]
    },
    {
     "data": {
      "text/plain": [
       "[0.6582295894622803, 0.806573212146759]"
      ]
     },
     "execution_count": 78,
     "metadata": {},
     "output_type": "execute_result"
    }
   ],
   "source": [
    "# Compute the loss and metrics\n",
    "model.evaluate(test_ds)"
   ]
  },
  {
   "cell_type": "code",
   "execution_count": 79,
   "metadata": {},
   "outputs": [
    {
     "name": "stdout",
     "output_type": "stream",
     "text": [
      "INFO:tensorflow:Assets written to: ./S2/model\\assets\n"
     ]
    },
    {
     "name": "stderr",
     "output_type": "stream",
     "text": [
      "INFO:tensorflow:Assets written to: ./S2/model\\assets\n"
     ]
    }
   ],
   "source": [
    "# Save the model\n",
    "model.save(model_d)"
   ]
  },
  {
   "cell_type": "code",
   "execution_count": 80,
   "metadata": {},
   "outputs": [
    {
     "name": "stdout",
     "output_type": "stream",
     "text": [
      "ACCURACY PER TOPIC:\n",
      "\n",
      "ENTERTAINMENT: 85.60 \n",
      "HEALTH: 80.90 \n",
      "TECHNOLOGY: 85.67 \n",
      "WORLD: 62.37 \n",
      "BUSINESS: 100.00 \n",
      "SPORTS: 88.93 \n",
      "NATION: 65.47 \n",
      "SCIENCE: 81.59 \n"
     ]
    }
   ],
   "source": [
    "# Get the list of topics\n",
    "topics = topic_lookup.get_vocabulary()\n",
    "\n",
    "# Evaluate the model's performance for each topic\n",
    "isbn_utils.print_metric_per_topic(dev_df, topics, topic_lookup, title_preprocessor, model)"
   ]
  },
  {
   "cell_type": "code",
   "execution_count": 81,
   "metadata": {},
   "outputs": [
    {
     "data": {
      "text/html": [
       "<div>\n",
       "<style scoped>\n",
       "    .dataframe tbody tr th:only-of-type {\n",
       "        vertical-align: middle;\n",
       "    }\n",
       "\n",
       "    .dataframe tbody tr th {\n",
       "        vertical-align: top;\n",
       "    }\n",
       "\n",
       "    .dataframe thead th {\n",
       "        text-align: right;\n",
       "    }\n",
       "</style>\n",
       "<table border=\"1\" class=\"dataframe\">\n",
       "  <thead>\n",
       "    <tr style=\"text-align: right;\">\n",
       "      <th></th>\n",
       "      <th>title</th>\n",
       "      <th>link</th>\n",
       "      <th>domain</th>\n",
       "      <th>published_date</th>\n",
       "      <th>topic</th>\n",
       "    </tr>\n",
       "  </thead>\n",
       "  <tbody>\n",
       "    <tr>\n",
       "      <th>0</th>\n",
       "      <td>Why iPhone 12 Will Be Another 'Defining Chapter' In Apple's Growth Story</td>\n",
       "      <td>https://www.khaleejtimes.com/business/energy/oil-prices-mixed-as-coronavirus-concerns-undercut-support-from-lower-us-crude-stocks</td>\n",
       "      <td>khaleejtimes.com</td>\n",
       "      <td>2020-08-06 05:16:03</td>\n",
       "      <td>BUSINESS</td>\n",
       "    </tr>\n",
       "    <tr>\n",
       "      <th>5</th>\n",
       "      <td>Why iPhone 12 Will Be Another 'Defining Chapter' In Apple's Growth Story</td>\n",
       "      <td>https://www.irishtimes.com/business/financial-services/aib-defends-incredibly-high-1-2bn-loans-charge-as-2008-haunts-1.4323587</td>\n",
       "      <td>irishtimes.com</td>\n",
       "      <td>2020-08-06 11:37:30</td>\n",
       "      <td>BUSINESS</td>\n",
       "    </tr>\n",
       "    <tr>\n",
       "      <th>12</th>\n",
       "      <td>Why iPhone 12 Will Be Another 'Defining Chapter' In Apple's Growth Story</td>\n",
       "      <td>https://bulletinline.com/2020/08/07/market-research-survey-software-market-value-projected-to-expand-by-2025-with-top-companies-like-questionpro-survey-software-q-research-software-surveygizmo-surveysparrow/</td>\n",
       "      <td>bulletinline.com</td>\n",
       "      <td>2020-08-07 08:55:00</td>\n",
       "      <td>BUSINESS</td>\n",
       "    </tr>\n",
       "    <tr>\n",
       "      <th>30</th>\n",
       "      <td>Why iPhone 12 Will Be Another 'Defining Chapter' In Apple's Growth Story</td>\n",
       "      <td>https://www.fiercepharma.com/manufacturing/samsung-biologics-plots-2b-super-plant-as-covid-19-sends-sales-through-roof</td>\n",
       "      <td>fiercepharma.com</td>\n",
       "      <td>2020-08-11 12:22:00</td>\n",
       "      <td>BUSINESS</td>\n",
       "    </tr>\n",
       "    <tr>\n",
       "      <th>32</th>\n",
       "      <td>Why iPhone 12 Will Be Another 'Defining Chapter' In Apple's Growth Story</td>\n",
       "      <td>https://www.news.com.au/finance/business/technology/fresh-fintech-revolut-will-offer-aussies-no-fee-foreign-exchange-to-transfers-to-overseas-friends-and-families/news-story/4a37731b2b5409f6b2b93bf21f7e8971</td>\n",
       "      <td>news.com.au</td>\n",
       "      <td>2020-08-11 06:49:48</td>\n",
       "      <td>BUSINESS</td>\n",
       "    </tr>\n",
       "    <tr>\n",
       "      <th>...</th>\n",
       "      <td>...</td>\n",
       "      <td>...</td>\n",
       "      <td>...</td>\n",
       "      <td>...</td>\n",
       "      <td>...</td>\n",
       "    </tr>\n",
       "    <tr>\n",
       "      <th>65245</th>\n",
       "      <td>Why iPhone 12 Will Be Another 'Defining Chapter' In Apple's Growth Story</td>\n",
       "      <td>https://www.foxbusiness.com/money/saudi-aramco-stock-company-profitable</td>\n",
       "      <td>foxbusiness.com</td>\n",
       "      <td>2020-08-09 11:12:21</td>\n",
       "      <td>BUSINESS</td>\n",
       "    </tr>\n",
       "    <tr>\n",
       "      <th>65246</th>\n",
       "      <td>Why iPhone 12 Will Be Another 'Defining Chapter' In Apple's Growth Story</td>\n",
       "      <td>https://www.fool.com/earnings/call-transcripts/2020/08/13/zai-lab-limited-zlab-q2-2020-earnings-call-transcr/</td>\n",
       "      <td>fool.com</td>\n",
       "      <td>2020-08-14 00:00:36</td>\n",
       "      <td>BUSINESS</td>\n",
       "    </tr>\n",
       "    <tr>\n",
       "      <th>65255</th>\n",
       "      <td>Why iPhone 12 Will Be Another 'Defining Chapter' In Apple's Growth Story</td>\n",
       "      <td>https://www.internetshots.com/2020/08/03/global-biochemical-oxygen-demand-analyzer-market-report-to-examine-manufacturing-cost-analysis-marketing-channel-distributors-and-customers/</td>\n",
       "      <td>internetshots.com</td>\n",
       "      <td>2020-08-03 02:55:46</td>\n",
       "      <td>BUSINESS</td>\n",
       "    </tr>\n",
       "    <tr>\n",
       "      <th>65260</th>\n",
       "      <td>Why iPhone 12 Will Be Another 'Defining Chapter' In Apple's Growth Story</td>\n",
       "      <td>https://247wallst.com/autos/2020/08/04/tesla-gets-yet-another-electric-vehicle-to-compete-with-ahead/</td>\n",
       "      <td>247wallst.com</td>\n",
       "      <td>2020-08-04 12:05:59</td>\n",
       "      <td>BUSINESS</td>\n",
       "    </tr>\n",
       "    <tr>\n",
       "      <th>65261</th>\n",
       "      <td>Why iPhone 12 Will Be Another 'Defining Chapter' In Apple's Growth Story</td>\n",
       "      <td>https://www.cnet.com/roadshow/news/mercedes-benz-s-class-interior-debut/</td>\n",
       "      <td>cnet.com</td>\n",
       "      <td>2020-08-12 18:56:03</td>\n",
       "      <td>BUSINESS</td>\n",
       "    </tr>\n",
       "  </tbody>\n",
       "</table>\n",
       "<p>9000 rows × 5 columns</p>\n",
       "</div>"
      ],
      "text/plain": [
       "                                                                          title  \\\n",
       "0      Why iPhone 12 Will Be Another 'Defining Chapter' In Apple's Growth Story   \n",
       "5      Why iPhone 12 Will Be Another 'Defining Chapter' In Apple's Growth Story   \n",
       "12     Why iPhone 12 Will Be Another 'Defining Chapter' In Apple's Growth Story   \n",
       "30     Why iPhone 12 Will Be Another 'Defining Chapter' In Apple's Growth Story   \n",
       "32     Why iPhone 12 Will Be Another 'Defining Chapter' In Apple's Growth Story   \n",
       "...                                                                         ...   \n",
       "65245  Why iPhone 12 Will Be Another 'Defining Chapter' In Apple's Growth Story   \n",
       "65246  Why iPhone 12 Will Be Another 'Defining Chapter' In Apple's Growth Story   \n",
       "65255  Why iPhone 12 Will Be Another 'Defining Chapter' In Apple's Growth Story   \n",
       "65260  Why iPhone 12 Will Be Another 'Defining Chapter' In Apple's Growth Story   \n",
       "65261  Why iPhone 12 Will Be Another 'Defining Chapter' In Apple's Growth Story   \n",
       "\n",
       "                                                                                                                                                                                                                  link  \\\n",
       "0                                                                                    https://www.khaleejtimes.com/business/energy/oil-prices-mixed-as-coronavirus-concerns-undercut-support-from-lower-us-crude-stocks   \n",
       "5                                                                                       https://www.irishtimes.com/business/financial-services/aib-defends-incredibly-high-1-2bn-loans-charge-as-2008-haunts-1.4323587   \n",
       "12     https://bulletinline.com/2020/08/07/market-research-survey-software-market-value-projected-to-expand-by-2025-with-top-companies-like-questionpro-survey-software-q-research-software-surveygizmo-surveysparrow/   \n",
       "30                                                                                              https://www.fiercepharma.com/manufacturing/samsung-biologics-plots-2b-super-plant-as-covid-19-sends-sales-through-roof   \n",
       "32      https://www.news.com.au/finance/business/technology/fresh-fintech-revolut-will-offer-aussies-no-fee-foreign-exchange-to-transfers-to-overseas-friends-and-families/news-story/4a37731b2b5409f6b2b93bf21f7e8971   \n",
       "...                                                                                                                                                                                                                ...   \n",
       "65245                                                                                                                                          https://www.foxbusiness.com/money/saudi-aramco-stock-company-profitable   \n",
       "65246                                                                                                    https://www.fool.com/earnings/call-transcripts/2020/08/13/zai-lab-limited-zlab-q2-2020-earnings-call-transcr/   \n",
       "65255                            https://www.internetshots.com/2020/08/03/global-biochemical-oxygen-demand-analyzer-market-report-to-examine-manufacturing-cost-analysis-marketing-channel-distributors-and-customers/   \n",
       "65260                                                                                                            https://247wallst.com/autos/2020/08/04/tesla-gets-yet-another-electric-vehicle-to-compete-with-ahead/   \n",
       "65261                                                                                                                                         https://www.cnet.com/roadshow/news/mercedes-benz-s-class-interior-debut/   \n",
       "\n",
       "                  domain       published_date     topic  \n",
       "0       khaleejtimes.com  2020-08-06 05:16:03  BUSINESS  \n",
       "5         irishtimes.com  2020-08-06 11:37:30  BUSINESS  \n",
       "12      bulletinline.com  2020-08-07 08:55:00  BUSINESS  \n",
       "30      fiercepharma.com  2020-08-11 12:22:00  BUSINESS  \n",
       "32           news.com.au  2020-08-11 06:49:48  BUSINESS  \n",
       "...                  ...                  ...       ...  \n",
       "65245    foxbusiness.com  2020-08-09 11:12:21  BUSINESS  \n",
       "65246           fool.com  2020-08-14 00:00:36  BUSINESS  \n",
       "65255  internetshots.com  2020-08-03 02:55:46  BUSINESS  \n",
       "65260      247wallst.com  2020-08-04 12:05:59  BUSINESS  \n",
       "65261           cnet.com  2020-08-12 18:56:03  BUSINESS  \n",
       "\n",
       "[9000 rows x 5 columns]"
      ]
     },
     "execution_count": 81,
     "metadata": {},
     "output_type": "execute_result"
    }
   ],
   "source": [
    "# filter the training dataframe's business articles\n",
    "train_df[train_df.topic=='BUSINESS']"
   ]
  },
  {
   "cell_type": "code",
   "execution_count": 82,
   "metadata": {},
   "outputs": [
    {
     "name": "stdout",
     "output_type": "stream",
     "text": [
      "label: ENTERTAINMENT\n",
      "prediction: NATION\n",
      "title: Paedae sprays money on kids on the street in video\n",
      "\n",
      "label: WORLD\n",
      "prediction: NATION\n",
      "title: Coronavirus – Ethiopia: COVID-19 reported cases in Ethiopia (8th August 2020)\n",
      "\n",
      "label: HEALTH\n",
      "prediction: NATION\n",
      "title: PG paramedics see calls for potential drug overdoses more than double in July\n",
      "\n",
      "label: ENTERTAINMENT\n",
      "prediction: NATION\n",
      "title: Sushant Singh Rajput's flatmate Siddharth Pithani says he didn't find any torn pages in SSR's diary\n",
      "\n",
      "label: ENTERTAINMENT\n",
      "prediction: NATION\n",
      "title: GCSEs: Here's why you shouldn't give up on poetry\n",
      "\n",
      "label: WORLD\n",
      "prediction: NATION\n",
      "title: Man arrested for installing camera in bathroom to watch wife's best friend showering\n",
      "\n",
      "label: HEALTH\n",
      "prediction: NATION\n",
      "title: Aus states Covid-19 outbreak stemmed from failed hotel quarantine scheme\n",
      "\n",
      "label: WORLD\n",
      "prediction: NATION\n",
      "title: Kenya says cold season to blame for a spike in COVID-19 infections | English.news.cn\n",
      "\n",
      "label: ENTERTAINMENT\n",
      "prediction: NATION\n",
      "title: Allu Sirish: People have stigma endorsing something Indian made\n",
      "\n",
      "label: HEALTH\n",
      "prediction: NATION\n",
      "title: Trio accused of lying at Qld border about spending weeks in Melbourne\n",
      "\n",
      "label: WORLD\n",
      "prediction: NATION\n",
      "title: Comment: TikTok must defend its rights legally\n",
      "\n",
      "label: WORLD\n",
      "prediction: NATION\n",
      "title: Time for Liberal government to give up 'fiction' that China is our friend, ex-diplomat warns MPs\n",
      "\n",
      "label: SCIENCE\n",
      "prediction: NATION\n",
      "title: Jupiter’s storms are filled with ‘superbolts’ of lightning unlike anything on Earth\n",
      "\n",
      "label: WORLD\n",
      "prediction: NATION\n",
      "title: Christian Brueckner was jailed for sexually abusing his ex-girlfriend's five-year-old daughter\n",
      "\n",
      "label: WORLD\n",
      "prediction: NATION\n",
      "title: Coronavirus map LIVE: Hospital death toll rises by 15 – but fear second wave in Scotland\n",
      "\n",
      "label: HEALTH\n",
      "prediction: NATION\n",
      "title: Herefordshire farm's Covid-19 outbreak 'successfully contained'\n",
      "\n",
      "label: WORLD\n",
      "prediction: NATION\n",
      "title: Foreigners without negative coronavirus tests can be barred from Russian flights\n",
      "\n",
      "label: TECHNOLOGY\n",
      "prediction: NATION\n",
      "title: A new clue towards Call of Duty: Black Ops Cold War is coming on August 14\n",
      "\n",
      "label: WORLD\n",
      "prediction: NATION\n",
      "title: WHO chief says there are 'green shoots of hope' in fight against coronavirus\n",
      "\n",
      "label: HEALTH\n",
      "prediction: NATION\n",
      "title: DOH records 40,397 recoveries as coronavirus cases breach 161,000 with 3,420 new patients\n",
      "\n"
     ]
    }
   ],
   "source": [
    "# Get examples in the dev set that predicted `NATION` but the ground truth label is different\n",
    "isbn_utils.get_errors(model, dev_df, title_preprocessor, topic_lookup, 'NATION')"
   ]
  },
  {
   "cell_type": "code",
   "execution_count": 83,
   "metadata": {},
   "outputs": [],
   "source": [
    "# Set the experiment folder\n",
    "BASE_DIR = './S3'\n",
    "\n",
    "# Set the subdirectories that will contain the experiment files\n",
    "data_d, model_d, vocab_d = isbn_utils.set_experiment_dirs(BASE_DIR)\n",
    "\n",
    "# Load the backup CSV\n",
    "combined_df = pd.read_csv(f'./.backup.csv')\n",
    "\n",
    "# Generate train, dev, and test sets as you did before.\n",
    "train_df, test_df = train_test_split(combined_df, test_size=0.2, stratify=combined_df['topic'])\n",
    "train_df, dev_df = train_test_split(train_df, test_size=0.25, stratify=train_df['topic'])\n",
    "\n",
    "# Save the datasets under the E3 folder\n",
    "isbn_utils.save_data(train_df, data_d, 'train_data.csv')\n",
    "isbn_utils.save_data(dev_df, data_d, 'dev_data.csv')\n",
    "isbn_utils.save_data(test_df, data_d, 'test_data.csv')"
   ]
  },
  {
   "cell_type": "code",
   "execution_count": 84,
   "metadata": {},
   "outputs": [],
   "source": [
    "\n",
    "# Generate a new vocabulary based on the new training set\n",
    "train_inputs = train_df['title']\n",
    "title_preprocessor.adapt(train_inputs)\n",
    "\n",
    "# Save the new vocabulary and labels\n",
    "isbn_utils.save_vocab(title_preprocessor, vocab_d)\n",
    "isbn_utils.save_labels(topic_lookup, vocab_d)\n"
   ]
  },
  {
   "cell_type": "code",
   "execution_count": 85,
   "metadata": {},
   "outputs": [
    {
     "name": "stdout",
     "output_type": "stream",
     "text": [
      "Epoch 1/5\n",
      "  35/2040 [..............................] - ETA: 8s - loss: 2.0678 - sparse_categorical_accuracy: 0.1330"
     ]
    },
    {
     "name": "stderr",
     "output_type": "stream",
     "text": [
      "c:\\Users\\Mirela\\anaconda3\\envs\\tensorflow\\lib\\site-packages\\keras\\src\\initializers\\initializers.py:120: UserWarning: The initializer RandomUniform is unseeded and being called multiple times, which will return identical values each time (even if the initializer is unseeded). Please update your code to provide a seed to the initializer, or avoid using the same initializer instance more than once.\n",
      "  warnings.warn(\n",
      "c:\\Users\\Mirela\\anaconda3\\envs\\tensorflow\\lib\\site-packages\\keras\\src\\initializers\\initializers.py:120: UserWarning: The initializer GlorotUniform is unseeded and being called multiple times, which will return identical values each time (even if the initializer is unseeded). Please update your code to provide a seed to the initializer, or avoid using the same initializer instance more than once.\n",
      "  warnings.warn(\n"
     ]
    },
    {
     "name": "stdout",
     "output_type": "stream",
     "text": [
      "2040/2040 [==============================] - 11s 5ms/step - loss: 1.3441 - sparse_categorical_accuracy: 0.5103 - val_loss: 0.8244 - val_sparse_categorical_accuracy: 0.7185\n",
      "Epoch 2/5\n",
      "2040/2040 [==============================] - 11s 5ms/step - loss: 0.6562 - sparse_categorical_accuracy: 0.7780 - val_loss: 0.7032 - val_sparse_categorical_accuracy: 0.7625\n",
      "Epoch 3/5\n",
      "2040/2040 [==============================] - 9s 4ms/step - loss: 0.5099 - sparse_categorical_accuracy: 0.8279 - val_loss: 0.7190 - val_sparse_categorical_accuracy: 0.7645\n",
      "Epoch 4/5\n",
      "2040/2040 [==============================] - 9s 4ms/step - loss: 0.4297 - sparse_categorical_accuracy: 0.8561 - val_loss: 0.7550 - val_sparse_categorical_accuracy: 0.7630\n",
      "Epoch 5/5\n",
      "2040/2040 [==============================] - 9s 4ms/step - loss: 0.3680 - sparse_categorical_accuracy: 0.8775 - val_loss: 0.8104 - val_sparse_categorical_accuracy: 0.7589\n"
     ]
    },
    {
     "data": {
      "text/plain": [
       "<keras.src.callbacks.History at 0x1d524e54970>"
      ]
     },
     "execution_count": 85,
     "metadata": {},
     "output_type": "execute_result"
    }
   ],
   "source": [
    "NUM_EPOCHS = 5\n",
    "\n",
    "# Convert the dataframes to numeric features. Remember to shuffle the training set.\n",
    "train_ds = isbn_utils.df_to_tfdata(train_df, topic_lookup, title_preprocessor, shuffle=True)\n",
    "dev_ds = isbn_utils.df_to_tfdata(dev_df, topic_lookup, title_preprocessor)\n",
    "test_ds = isbn_utils.df_to_tfdata(test_df, topic_lookup, title_preprocessor)\n",
    "\n",
    "# Reset the model weights\n",
    "model = isbn_utils.model_reset_weights(model)\n",
    "\n",
    "# Train the model\n",
    "model.fit(train_ds, epochs=NUM_EPOCHS, validation_data=dev_ds, verbose=1)\n"
   ]
  },
  {
   "cell_type": "code",
   "execution_count": 86,
   "metadata": {},
   "outputs": [
    {
     "name": "stdout",
     "output_type": "stream",
     "text": [
      "  1/680 [..............................] - ETA: 12s - loss: 0.7771 - sparse_categorical_accuracy: 0.7812"
     ]
    },
    {
     "name": "stdout",
     "output_type": "stream",
     "text": [
      "680/680 [==============================] - 1s 2ms/step - loss: 0.8210 - sparse_categorical_accuracy: 0.7556\n",
      "INFO:tensorflow:Assets written to: ./S3/model\\assets\n"
     ]
    },
    {
     "name": "stderr",
     "output_type": "stream",
     "text": [
      "INFO:tensorflow:Assets written to: ./S3/model\\assets\n"
     ]
    }
   ],
   "source": [
    "# Evaluate the model on the test set and write the results on the experiment tracker\n",
    "model.evaluate(test_ds)\n",
    "\n",
    "# Save the model to model_dir\n",
    "model.save(model_d)"
   ]
  },
  {
   "cell_type": "code",
   "execution_count": 87,
   "metadata": {},
   "outputs": [
    {
     "name": "stdout",
     "output_type": "stream",
     "text": [
      "ACCURACY PER TOPIC:\n",
      "\n",
      "ENTERTAINMENT: 83.67 \n",
      "HEALTH: 76.13 \n",
      "TECHNOLOGY: 86.83 \n",
      "WORLD: 63.70 \n",
      "BUSINESS: 72.37 \n",
      "SPORTS: 88.60 \n",
      "NATION: 60.40 \n",
      "SCIENCE: 74.04 \n"
     ]
    }
   ],
   "source": [
    "\n",
    "isbn_utils.print_metric_per_topic(dev_df, topics, topic_lookup, title_preprocessor, model)\n"
   ]
  },
  {
   "cell_type": "code",
   "execution_count": 88,
   "metadata": {},
   "outputs": [
    {
     "name": "stdout",
     "output_type": "stream",
     "text": [
      "label: ENTERTAINMENT\n",
      "prediction: NATION\n",
      "title: Piers Morgan cuts short St Tropez holiday as he jets back to the UK to dodge France quarantine restrictions\n",
      "\n",
      "label: SPORTS\n",
      "prediction: NATION\n",
      "title: Michigan State's Bill Beekman: Big Ten exploring 'bubble-like' concept for basketball\n",
      "\n",
      "label: WORLD\n",
      "prediction: NATION\n",
      "title: Trump's Payroll Tax Holiday Order Gives Employers a New Dilemma\n",
      "\n",
      "label: BUSINESS\n",
      "prediction: NATION\n",
      "title: E-commerce cos dominate Kantar retail rankings\n",
      "\n",
      "label: WORLD\n",
      "prediction: NATION\n",
      "title: Tsitsi Dangarembga: Zimbabwe on road to starvation like Ethiopia, warns Booker longlist writer\n",
      "\n",
      "label: TECHNOLOGY\n",
      "prediction: NATION\n",
      "title: 'Disgusted' Argos customer 'sent text from delivery driver asking if she is single'\n",
      "\n",
      "label: HEALTH\n",
      "prediction: NATION\n",
      "title: COVID-19 cases in Arizona continue to see dramatic August decreases\n",
      "\n",
      "label: ENTERTAINMENT\n",
      "prediction: NATION\n",
      "title: Hulu's 'No Man's Land' Inspired By All-Female Militia That Hunts ISIS\n",
      "\n",
      "label: HEALTH\n",
      "prediction: NATION\n",
      "title: COVID-19: long road to recovery\n",
      "\n",
      "label: HEALTH\n",
      "prediction: NATION\n",
      "title: UK coronavirus LIVE: A Level students stage protest in Westminster as anger mounts over 'farcical' Ofqual appeals system\n",
      "\n",
      "label: WORLD\n",
      "prediction: NATION\n",
      "title: Update on student visa changes: Visa application fee waiver available from August 5\n",
      "\n",
      "label: WORLD\n",
      "prediction: NATION\n",
      "title: Zim weighs using land as security for the $3.5bn bond meant to compensate white farmers\n",
      "\n",
      "label: HEALTH\n",
      "prediction: NATION\n",
      "title: Dublin records under 100 COVID-19 cases for ten weeks in a row\n",
      "\n",
      "label: WORLD\n",
      "prediction: NATION\n",
      "title: Buhari, Jonathan greet IBB at 79\n",
      "\n",
      "label: HEALTH\n",
      "prediction: NATION\n",
      "title: Houston coronavirus updates: What you need to know for August 17\n",
      "\n",
      "label: WORLD\n",
      "prediction: NATION\n",
      "title: UPSC IES Exam 2020 Notification Released. Check Here\n",
      "\n",
      "label: WORLD\n",
      "prediction: NATION\n",
      "title: Mildred is on the mend! Humane Society gives update on rescued dog\n",
      "\n",
      "label: WORLD\n",
      "prediction: NATION\n",
      "title: #SexySutton: How Victoria's Chief Health Officer reached cult status\n",
      "\n",
      "label: BUSINESS\n",
      "prediction: NATION\n",
      "title: AIB defends ‘incredibly’ high €1.2bn loans charge as 2008 haunts\n",
      "\n",
      "label: SPORTS\n",
      "prediction: NATION\n",
      "title: Liberty responds to questions about COVID-19 testing\n",
      "\n"
     ]
    }
   ],
   "source": [
    "# Get examples in the dev set that predicted `NATION` but the ground truth label is different\n",
    "isbn_utils.get_errors(model, dev_df, title_preprocessor, topic_lookup, 'NATION')"
   ]
  },
  {
   "cell_type": "code",
   "execution_count": 89,
   "metadata": {},
   "outputs": [
    {
     "name": "stdout",
     "output_type": "stream",
     "text": [
      "680/680 [==============================] - 1s 2ms/step - loss: 0.8104 - sparse_top_k_categorical_accuracy: 0.8828\n"
     ]
    },
    {
     "data": {
      "text/plain": [
       "[0.8104280233383179, 0.8828315138816833]"
      ]
     },
     "execution_count": 89,
     "metadata": {},
     "output_type": "execute_result"
    }
   ],
   "source": [
    "# Set the top-K accuracy to 2\n",
    "model.compile(loss='sparse_categorical_crossentropy',\n",
    "              optimizer='adam',\n",
    "              metrics=[tf.keras.metrics.SparseTopKCategoricalAccuracy(k=2)]             \n",
    "             )\n",
    "\n",
    "# Check the accuracy\n",
    "model.evaluate(dev_ds)\n"
   ]
  },
  {
   "cell_type": "code",
   "execution_count": 90,
   "metadata": {},
   "outputs": [
    {
     "name": "stdout",
     "output_type": "stream",
     "text": [
      "ACCURACY PER TOPIC:\n",
      "\n",
      "ENTERTAINMENT: 91.60 \n",
      "HEALTH: 87.30 \n",
      "TECHNOLOGY: 93.20 \n",
      "WORLD: 86.47 \n",
      "BUSINESS: 83.90 \n",
      "SPORTS: 93.10 \n",
      "NATION: 84.03 \n",
      "SCIENCE: 81.85 \n"
     ]
    }
   ],
   "source": [
    "# Print the accuracy per topic\n",
    "isbn_utils.print_metric_per_topic(dev_df, topics, topic_lookup, title_preprocessor, model)"
   ]
  },
  {
   "cell_type": "code",
   "execution_count": 91,
   "metadata": {},
   "outputs": [
    {
     "name": "stdout",
     "output_type": "stream",
     "text": [
      "Model: \"sequential_1\"\n",
      "_________________________________________________________________\n",
      " Layer (type)                Output Shape              Param #   \n",
      "=================================================================\n",
      " embedding_1 (Embedding)     (None, 20, 24)            240000    \n",
      "                                                                 \n",
      " dense_2 (Dense)             (None, 20, 24)            600       \n",
      "                                                                 \n",
      " flatten_1 (Flatten)         (None, 480)               0         \n",
      "                                                                 \n",
      " dense_3 (Dense)             (None, 8)                 3848      \n",
      "                                                                 \n",
      "=================================================================\n",
      "Total params: 244448 (954.88 KB)\n",
      "Trainable params: 244448 (954.88 KB)\n",
      "Non-trainable params: 0 (0.00 Byte)\n",
      "_________________________________________________________________\n"
     ]
    }
   ],
   "source": [
    "# Parameters\n",
    "EMBEDDING_DIM = 24\n",
    "DENSE_DIM = 24\n",
    "topic_size = topic_lookup.vocabulary_size()\n",
    "\n",
    "# Model Definition\n",
    "model = tf.keras.Sequential([\n",
    "    tf.keras.layers.Embedding(VOCAB_SIZE, EMBEDDING_DIM, input_length=MAX_LENGTH),\n",
    "    tf.keras.layers.Dense(DENSE_DIM, activation='relu'),\n",
    "    tf.keras.layers.Flatten(),\n",
    "    tf.keras.layers.Dense(topic_size, activation='softmax')\n",
    "])\n",
    "\n",
    "model.compile(loss='sparse_categorical_crossentropy',optimizer='adam',metrics=['sparse_categorical_accuracy'])\n",
    "\n",
    "# Print the model summary\n",
    "model.summary()"
   ]
  },
  {
   "cell_type": "code",
   "execution_count": 92,
   "metadata": {},
   "outputs": [
    {
     "name": "stdout",
     "output_type": "stream",
     "text": [
      "SERVING_DIR: d:\\Mirela\\Visual Studio Code\\Work/serving\n",
      "os.environ[\"SERVING_DIR\"]: d:\\Mirela\\Visual Studio Code\\Work/serving\n"
     ]
    }
   ],
   "source": [
    "import os\n",
    "\n",
    "SERVING_DIR = f'{os.getcwd()}/serving'\n",
    "os.environ[\"SERVING_DIR\"] = SERVING_DIR\n",
    "print(f'SERVING_DIR: {SERVING_DIR}')\n",
    "print(f'os.environ[\"SERVING_DIR\"]: {os.environ[\"SERVING_DIR\"]}')"
   ]
  },
  {
   "cell_type": "code",
   "execution_count": null,
   "metadata": {},
   "outputs": [],
   "source": [
    "import os\n",
    "import shutil\n",
    "\n",
    "os.makedirs(f'{SERVING_DIR}/1', exist_ok=True)\n",
    "shutil.copytree('./S2/model/', f'{SERVING_DIR}/1', dirs_exist_ok=True)"
   ]
  }
 ],
 "metadata": {
  "kernelspec": {
   "display_name": "tensorflow",
   "language": "python",
   "name": "python3"
  },
  "language_info": {
   "codemirror_mode": {
    "name": "ipython",
    "version": 3
   },
   "file_extension": ".py",
   "mimetype": "text/x-python",
   "name": "python",
   "nbconvert_exporter": "python",
   "pygments_lexer": "ipython3",
   "version": "3.8.20"
  }
 },
 "nbformat": 4,
 "nbformat_minor": 2
}
