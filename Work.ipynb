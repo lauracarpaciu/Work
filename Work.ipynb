{
 "cells": [
  {
   "cell_type": "code",
   "execution_count": 31,
   "metadata": {},
   "outputs": [
    {
     "name": "stdout",
     "output_type": "stream",
     "text": [
      "Requirement already satisfied: pandas in c:\\users\\mirela\\anaconda3\\envs\\tensorflow\\lib\\site-packages (2.0.3)\n",
      "Requirement already satisfied: python-dateutil>=2.8.2 in c:\\users\\mirela\\anaconda3\\envs\\tensorflow\\lib\\site-packages (from pandas) (2.9.0)\n",
      "Requirement already satisfied: pytz>=2020.1 in c:\\users\\mirela\\anaconda3\\envs\\tensorflow\\lib\\site-packages (from pandas) (2025.1)\n",
      "Requirement already satisfied: tzdata>=2022.1 in c:\\users\\mirela\\anaconda3\\envs\\tensorflow\\lib\\site-packages (from pandas) (2025.1)\n",
      "Requirement already satisfied: numpy>=1.20.3 in c:\\users\\mirela\\anaconda3\\envs\\tensorflow\\lib\\site-packages (from pandas) (1.24.3)\n",
      "Requirement already satisfied: six>=1.5 in c:\\users\\mirela\\anaconda3\\envs\\tensorflow\\lib\\site-packages (from python-dateutil>=2.8.2->pandas) (1.16.0)\n",
      "Note: you may need to restart the kernel to use updated packages.\n"
     ]
    },
    {
     "name": "stderr",
     "output_type": "stream",
     "text": [
      "Error processing line 1 of c:\\Users\\Mirela\\anaconda3\\envs\\tensorflow\\lib\\site-packages\\matplotlib-3.7.5-py3.8-nspkg.pth:\n",
      "\n",
      "  Traceback (most recent call last):\n",
      "    File \"c:\\Users\\Mirela\\anaconda3\\envs\\tensorflow\\lib\\site.py\", line 177, in addpackage\n",
      "      exec(line)\n",
      "    File \"<string>\", line 1, in <module>\n",
      "    File \"<frozen importlib._bootstrap>\", line 553, in module_from_spec\n",
      "  AttributeError: 'NoneType' object has no attribute 'loader'\n",
      "\n",
      "Remainder of file ignored\n"
     ]
    },
    {
     "name": "stdout",
     "output_type": "stream",
     "text": [
      "Collecting sklearn\n",
      "  Using cached sklearn-0.0.post12.tar.gz (2.6 kB)\n",
      "  Preparing metadata (setup.py): started\n",
      "  Preparing metadata (setup.py): finished with status 'error'\n",
      "Note: you may need to restart the kernel to use updated packages.\n"
     ]
    },
    {
     "name": "stderr",
     "output_type": "stream",
     "text": [
      "Error processing line 1 of c:\\Users\\Mirela\\anaconda3\\envs\\tensorflow\\lib\\site-packages\\matplotlib-3.7.5-py3.8-nspkg.pth:\n",
      "\n",
      "  Traceback (most recent call last):\n",
      "    File \"c:\\Users\\Mirela\\anaconda3\\envs\\tensorflow\\lib\\site.py\", line 177, in addpackage\n",
      "      exec(line)\n",
      "    File \"<string>\", line 1, in <module>\n",
      "    File \"<frozen importlib._bootstrap>\", line 553, in module_from_spec\n",
      "  AttributeError: 'NoneType' object has no attribute 'loader'\n",
      "\n",
      "Remainder of file ignored\n",
      "  error: subprocess-exited-with-error\n",
      "  \n",
      "  × python setup.py egg_info did not run successfully.\n",
      "  │ exit code: 1\n",
      "  ╰─> [25 lines of output]\n",
      "      Error processing line 1 of c:\\Users\\Mirela\\anaconda3\\envs\\tensorflow\\lib\\site-packages\\matplotlib-3.7.5-py3.8-nspkg.pth:\n",
      "      \n",
      "        Traceback (most recent call last):\n",
      "          File \"c:\\Users\\Mirela\\anaconda3\\envs\\tensorflow\\lib\\site.py\", line 177, in addpackage\n",
      "            exec(line)\n",
      "          File \"<string>\", line 1, in <module>\n",
      "          File \"<frozen importlib._bootstrap>\", line 553, in module_from_spec\n",
      "        AttributeError: 'NoneType' object has no attribute 'loader'\n",
      "      \n",
      "      Remainder of file ignored\n",
      "      The 'sklearn' PyPI package is deprecated, use 'scikit-learn'\n",
      "      rather than 'sklearn' for pip commands.\n",
      "      \n",
      "      Here is how to fix this error in the main use cases:\n",
      "      - use 'pip install scikit-learn' rather than 'pip install sklearn'\n",
      "      - replace 'sklearn' by 'scikit-learn' in your pip requirements files\n",
      "        (requirements.txt, setup.py, setup.cfg, Pipfile, etc ...)\n",
      "      - if the 'sklearn' package is used by one of your dependencies,\n",
      "        it would be great if you take some time to track which package uses\n",
      "        'sklearn' instead of 'scikit-learn' and report it to their issue tracker\n",
      "      - as a last resort, set the environment variable\n",
      "        SKLEARN_ALLOW_DEPRECATED_SKLEARN_PACKAGE_INSTALL=True to avoid this error\n",
      "      \n",
      "      More information is available at\n",
      "      https://github.com/scikit-learn/sklearn-pypi-package\n",
      "      [end of output]\n",
      "  \n",
      "  note: This error originates from a subprocess, and is likely not a problem with pip.\n",
      "error: metadata-generation-failed\n",
      "\n",
      "× Encountered error while generating package metadata.\n",
      "╰─> See above for output.\n",
      "\n",
      "note: This is an issue with the package mentioned above, not pip.\n",
      "hint: See above for details.\n"
     ]
    },
    {
     "name": "stdout",
     "output_type": "stream",
     "text": [
      "Requirement already satisfied: scikit-learn in c:\\users\\mirela\\anaconda3\\envs\\tensorflow\\lib\\site-packages (1.3.2)\n",
      "Requirement already satisfied: numpy<2.0,>=1.17.3 in c:\\users\\mirela\\anaconda3\\envs\\tensorflow\\lib\\site-packages (from scikit-learn) (1.24.3)\n",
      "Requirement already satisfied: scipy>=1.5.0 in c:\\users\\mirela\\anaconda3\\envs\\tensorflow\\lib\\site-packages (from scikit-learn) (1.10.1)\n",
      "Requirement already satisfied: joblib>=1.1.1 in c:\\users\\mirela\\anaconda3\\envs\\tensorflow\\lib\\site-packages (from scikit-learn) (1.4.2)\n",
      "Requirement already satisfied: threadpoolctl>=2.0.0 in c:\\users\\mirela\\anaconda3\\envs\\tensorflow\\lib\\site-packages (from scikit-learn) (3.5.0)\n",
      "Note: you may need to restart the kernel to use updated packages.\n"
     ]
    },
    {
     "name": "stderr",
     "output_type": "stream",
     "text": [
      "Error processing line 1 of c:\\Users\\Mirela\\anaconda3\\envs\\tensorflow\\lib\\site-packages\\matplotlib-3.7.5-py3.8-nspkg.pth:\n",
      "\n",
      "  Traceback (most recent call last):\n",
      "    File \"c:\\Users\\Mirela\\anaconda3\\envs\\tensorflow\\lib\\site.py\", line 177, in addpackage\n",
      "      exec(line)\n",
      "    File \"<string>\", line 1, in <module>\n",
      "    File \"<frozen importlib._bootstrap>\", line 553, in module_from_spec\n",
      "  AttributeError: 'NoneType' object has no attribute 'loader'\n",
      "\n",
      "Remainder of file ignored\n"
     ]
    }
   ],
   "source": [
    "import tensorflow as tf\n",
    "%pip install pandas\n",
    "%pip install sklearn\n",
    "import pandas as pd\n",
    "from detection import isbn_utils\n",
    "%pip install scikit-learn"
   ]
  },
  {
   "cell_type": "code",
   "execution_count": 32,
   "metadata": {},
   "outputs": [
    {
     "name": "stdout",
     "output_type": "stream",
     "text": [
      "base directory: ./S1\n",
      "\n",
      "data: ./S1/data\n",
      "model: ./S1/model\n",
      "vocab: ./S1/vocab\n",
      "\n"
     ]
    }
   ],
   "source": [
    "BASE_DIR = './S1'\n",
    "\n",
    "# Get the subdirectories that contain the experiment files\n",
    "data, model, vocab = isbn_utils.set_experiment_dirs(BASE_DIR)\n",
    "\n",
    "print(\n",
    "    f'base directory: {BASE_DIR}\\n\\n'\n",
    "    f'data: {data}\\n'\n",
    "    f'model: {model}\\n'\n",
    "    f'vocab: {vocab}\\n'\n",
    ")"
   ]
  },
  {
   "cell_type": "code",
   "execution_count": 33,
   "metadata": {},
   "outputs": [
    {
     "data": {
      "text/html": [
       "<div>\n",
       "<style scoped>\n",
       "    .dataframe tbody tr th:only-of-type {\n",
       "        vertical-align: middle;\n",
       "    }\n",
       "\n",
       "    .dataframe tbody tr th {\n",
       "        vertical-align: top;\n",
       "    }\n",
       "\n",
       "    .dataframe thead th {\n",
       "        text-align: right;\n",
       "    }\n",
       "</style>\n",
       "<table border=\"1\" class=\"dataframe\">\n",
       "  <thead>\n",
       "    <tr style=\"text-align: right;\">\n",
       "      <th></th>\n",
       "      <th>title</th>\n",
       "      <th>link</th>\n",
       "      <th>domain</th>\n",
       "      <th>published_date</th>\n",
       "      <th>topic</th>\n",
       "    </tr>\n",
       "  </thead>\n",
       "  <tbody>\n",
       "    <tr>\n",
       "      <th>0</th>\n",
       "      <td>NSW remains on COVID-19 high alert | The Star | Newcastle, NSW</td>\n",
       "      <td>https://www.newcastlestar.com.au/story/6878465/nsw-remains-on-covid-19-high-alert/?cs=7</td>\n",
       "      <td>newcastlestar.com.au</td>\n",
       "      <td>2020-08-13 17:32:28</td>\n",
       "      <td>HEALTH</td>\n",
       "    </tr>\n",
       "    <tr>\n",
       "      <th>1</th>\n",
       "      <td>Missing people: How does someone just disappear?</td>\n",
       "      <td>https://www.bbc.co.uk/news/uk-england-cambridgeshire-53648599</td>\n",
       "      <td>bbc.co.uk</td>\n",
       "      <td>2020-08-04 15:56:20</td>\n",
       "      <td>NATION</td>\n",
       "    </tr>\n",
       "    <tr>\n",
       "      <th>2</th>\n",
       "      <td>An American Pickle review: In a dual role, Seth Rogen’s drama wins over comedy</td>\n",
       "      <td>https://www.polygon.com/2020/8/6/21357120/american-pickle-review-movie-seth-rogen-simon-rich-hbo-max</td>\n",
       "      <td>polygon.com</td>\n",
       "      <td>2020-08-06 15:58:22</td>\n",
       "      <td>ENTERTAINMENT</td>\n",
       "    </tr>\n",
       "    <tr>\n",
       "      <th>3</th>\n",
       "      <td>Katie Spotz to Run 130 Miles to Bring Clean Water to Tanzania, Shares Testimony of Change</td>\n",
       "      <td>http://www.christianitydaily.com/articles/9647/20200807/katie-spotz-run-130-miles-bring-clean-water-tanzania-shares.htm</td>\n",
       "      <td>christianitydaily.com</td>\n",
       "      <td>2020-08-07 19:45:00</td>\n",
       "      <td>NATION</td>\n",
       "    </tr>\n",
       "    <tr>\n",
       "      <th>4</th>\n",
       "      <td>CDC Director Says This Fall Could Be ‘the Worst’ We’ve Ever Had Thanks to COVID-19</td>\n",
       "      <td>https://www.self.com/story/worst-fall-ever-covid</td>\n",
       "      <td>self.com</td>\n",
       "      <td>2020-08-13 19:37:52</td>\n",
       "      <td>HEALTH</td>\n",
       "    </tr>\n",
       "    <tr>\n",
       "      <th>5</th>\n",
       "      <td>Free water and electricity may be counterproductive – Economist</td>\n",
       "      <td>https://www.ghanaweb.com/GhanaHomePage/NewsArchive/Free-water-and-electricity-may-be-counterproductive-Economist-1031098</td>\n",
       "      <td>ghanaweb.com</td>\n",
       "      <td>2020-08-11 13:25:37</td>\n",
       "      <td>NATION</td>\n",
       "    </tr>\n",
       "    <tr>\n",
       "      <th>6</th>\n",
       "      <td>State places Tazewell County on COVID-19 warning list</td>\n",
       "      <td>https://week.com/2020/08/07/state-places-tazewell-county-on-covid-19-warning-list/</td>\n",
       "      <td>week.com</td>\n",
       "      <td>2020-08-07 18:00:24</td>\n",
       "      <td>HEALTH</td>\n",
       "    </tr>\n",
       "    <tr>\n",
       "      <th>7</th>\n",
       "      <td>Over 100 people quarantined in Mississippi school district after several test positive for coronavirus</td>\n",
       "      <td>https://www.nbcnews.com/news/us-news/over-100-people-quarantined-mississippi-school-district-after-several-test-n1236012</td>\n",
       "      <td>nbcnews.com</td>\n",
       "      <td>2020-08-06 16:35:00</td>\n",
       "      <td>NATION</td>\n",
       "    </tr>\n",
       "    <tr>\n",
       "      <th>8</th>\n",
       "      <td>How global warming is wiping out Africa's oldest baobab trees</td>\n",
       "      <td>http://www.capetalk.co.za/articles/307750/how-global-warming-is-wiping-out-africa-s-oldest-baobab-trees</td>\n",
       "      <td>capetalk.co.za</td>\n",
       "      <td>2018-06-14 12:00:53</td>\n",
       "      <td>WORLD</td>\n",
       "    </tr>\n",
       "    <tr>\n",
       "      <th>9</th>\n",
       "      <td>Delay routine dental checkups, WHO urges, until COVID risk is known</td>\n",
       "      <td>https://www.thepeninsulaqatar.com/article/11/08/2020/Delay-routine-dental-checkups,-WHO-urges,-until-COVID-risk-is-known</td>\n",
       "      <td>thepeninsulaqatar.com</td>\n",
       "      <td>2020-08-11 17:13:00</td>\n",
       "      <td>HEALTH</td>\n",
       "    </tr>\n",
       "  </tbody>\n",
       "</table>\n",
       "</div>"
      ],
      "text/plain": [
       "                                                                                                    title  \\\n",
       "0                                          NSW remains on COVID-19 high alert | The Star | Newcastle, NSW   \n",
       "1                                                        Missing people: How does someone just disappear?   \n",
       "2                          An American Pickle review: In a dual role, Seth Rogen’s drama wins over comedy   \n",
       "3               Katie Spotz to Run 130 Miles to Bring Clean Water to Tanzania, Shares Testimony of Change   \n",
       "4                      CDC Director Says This Fall Could Be ‘the Worst’ We’ve Ever Had Thanks to COVID-19   \n",
       "5                                         Free water and electricity may be counterproductive – Economist   \n",
       "6                                                   State places Tazewell County on COVID-19 warning list   \n",
       "7  Over 100 people quarantined in Mississippi school district after several test positive for coronavirus   \n",
       "8                                           How global warming is wiping out Africa's oldest baobab trees   \n",
       "9                                     Delay routine dental checkups, WHO urges, until COVID risk is known   \n",
       "\n",
       "                                                                                                                       link  \\\n",
       "0                                   https://www.newcastlestar.com.au/story/6878465/nsw-remains-on-covid-19-high-alert/?cs=7   \n",
       "1                                                             https://www.bbc.co.uk/news/uk-england-cambridgeshire-53648599   \n",
       "2                      https://www.polygon.com/2020/8/6/21357120/american-pickle-review-movie-seth-rogen-simon-rich-hbo-max   \n",
       "3   http://www.christianitydaily.com/articles/9647/20200807/katie-spotz-run-130-miles-bring-clean-water-tanzania-shares.htm   \n",
       "4                                                                          https://www.self.com/story/worst-fall-ever-covid   \n",
       "5  https://www.ghanaweb.com/GhanaHomePage/NewsArchive/Free-water-and-electricity-may-be-counterproductive-Economist-1031098   \n",
       "6                                        https://week.com/2020/08/07/state-places-tazewell-county-on-covid-19-warning-list/   \n",
       "7  https://www.nbcnews.com/news/us-news/over-100-people-quarantined-mississippi-school-district-after-several-test-n1236012   \n",
       "8                   http://www.capetalk.co.za/articles/307750/how-global-warming-is-wiping-out-africa-s-oldest-baobab-trees   \n",
       "9  https://www.thepeninsulaqatar.com/article/11/08/2020/Delay-routine-dental-checkups,-WHO-urges,-until-COVID-risk-is-known   \n",
       "\n",
       "                  domain       published_date          topic  \n",
       "0   newcastlestar.com.au  2020-08-13 17:32:28         HEALTH  \n",
       "1              bbc.co.uk  2020-08-04 15:56:20         NATION  \n",
       "2            polygon.com  2020-08-06 15:58:22  ENTERTAINMENT  \n",
       "3  christianitydaily.com  2020-08-07 19:45:00         NATION  \n",
       "4               self.com  2020-08-13 19:37:52         HEALTH  \n",
       "5           ghanaweb.com  2020-08-11 13:25:37         NATION  \n",
       "6               week.com  2020-08-07 18:00:24         HEALTH  \n",
       "7            nbcnews.com  2020-08-06 16:35:00         NATION  \n",
       "8         capetalk.co.za  2018-06-14 12:00:53          WORLD  \n",
       "9  thepeninsulaqatar.com  2020-08-11 17:13:00         HEALTH  "
      ]
     },
     "execution_count": 33,
     "metadata": {},
     "output_type": "execute_result"
    }
   ],
   "source": [
    "pd.set_option('display.max_colwidth', None)\n",
    "\n",
    "# Load the datasets into dataframes\n",
    "train_df = pd.read_csv(f'{data}/train_data.csv')\n",
    "test_df = pd.read_csv(f'{data}/test_data.csv')\n",
    "\n",
    "# Preview the first 10 rows of the training set\n",
    "train_df[:10]"
   ]
  },
  {
   "cell_type": "code",
   "execution_count": 34,
   "metadata": {},
   "outputs": [
    {
     "data": {
      "text/html": [
       "<div>\n",
       "<style scoped>\n",
       "    .dataframe tbody tr th:only-of-type {\n",
       "        vertical-align: middle;\n",
       "    }\n",
       "\n",
       "    .dataframe tbody tr th {\n",
       "        vertical-align: top;\n",
       "    }\n",
       "\n",
       "    .dataframe thead th {\n",
       "        text-align: right;\n",
       "    }\n",
       "</style>\n",
       "<table border=\"1\" class=\"dataframe\">\n",
       "  <thead>\n",
       "    <tr style=\"text-align: right;\">\n",
       "      <th></th>\n",
       "      <th>title</th>\n",
       "      <th>topic</th>\n",
       "    </tr>\n",
       "  </thead>\n",
       "  <tbody>\n",
       "    <tr>\n",
       "      <th>30</th>\n",
       "      <td>28% Fall in Mumbai's Home Isolation Cases, 62% Drop in Institutional Quarantine as Covid Curve Plateaus</td>\n",
       "      <td>NATION</td>\n",
       "    </tr>\n",
       "    <tr>\n",
       "      <th>31</th>\n",
       "      <td>Sniffer dogs begin trials to detect Covid</td>\n",
       "      <td>HEALTH</td>\n",
       "    </tr>\n",
       "    <tr>\n",
       "      <th>32</th>\n",
       "      <td>Seth Rogen says Marvel blockbusters make it difficult for comedy films</td>\n",
       "      <td>ENTERTAINMENT</td>\n",
       "    </tr>\n",
       "    <tr>\n",
       "      <th>33</th>\n",
       "      <td>Farewell to Pete Way, the debauched bassist with a frontman's swagger</td>\n",
       "      <td>ENTERTAINMENT</td>\n",
       "    </tr>\n",
       "    <tr>\n",
       "      <th>34</th>\n",
       "      <td>Poo detectives on the COVID-19 frontline</td>\n",
       "      <td>HEALTH</td>\n",
       "    </tr>\n",
       "    <tr>\n",
       "      <th>35</th>\n",
       "      <td>Fortnite maker challenges Apple and Google's app store rules through direct-payment discounts</td>\n",
       "      <td>TECHNOLOGY</td>\n",
       "    </tr>\n",
       "    <tr>\n",
       "      <th>36</th>\n",
       "      <td>Why iPhone 12 Will Be Another 'Defining Chapter' In Apple's Growth Story</td>\n",
       "      <td>BUSINESS</td>\n",
       "    </tr>\n",
       "    <tr>\n",
       "      <th>37</th>\n",
       "      <td>Forex auction bolsters productive sector</td>\n",
       "      <td>NATION</td>\n",
       "    </tr>\n",
       "    <tr>\n",
       "      <th>38</th>\n",
       "      <td>Intel Tiger Lake could outrun AMD Ryzen 4000 in single-core performance</td>\n",
       "      <td>TECHNOLOGY</td>\n",
       "    </tr>\n",
       "    <tr>\n",
       "      <th>39</th>\n",
       "      <td>Rappi delivery workers in Colombia's Bogota strike over conditions</td>\n",
       "      <td>TECHNOLOGY</td>\n",
       "    </tr>\n",
       "  </tbody>\n",
       "</table>\n",
       "</div>"
      ],
      "text/plain": [
       "                                                                                                      title  \\\n",
       "30  28% Fall in Mumbai's Home Isolation Cases, 62% Drop in Institutional Quarantine as Covid Curve Plateaus   \n",
       "31                                                                Sniffer dogs begin trials to detect Covid   \n",
       "32                                   Seth Rogen says Marvel blockbusters make it difficult for comedy films   \n",
       "33                                    Farewell to Pete Way, the debauched bassist with a frontman's swagger   \n",
       "34                                                                 Poo detectives on the COVID-19 frontline   \n",
       "35            Fortnite maker challenges Apple and Google's app store rules through direct-payment discounts   \n",
       "36                                 Why iPhone 12 Will Be Another 'Defining Chapter' In Apple's Growth Story   \n",
       "37                                                                 Forex auction bolsters productive sector   \n",
       "38                                  Intel Tiger Lake could outrun AMD Ryzen 4000 in single-core performance   \n",
       "39                                       Rappi delivery workers in Colombia's Bogota strike over conditions   \n",
       "\n",
       "            topic  \n",
       "30         NATION  \n",
       "31         HEALTH  \n",
       "32  ENTERTAINMENT  \n",
       "33  ENTERTAINMENT  \n",
       "34         HEALTH  \n",
       "35     TECHNOLOGY  \n",
       "36       BUSINESS  \n",
       "37         NATION  \n",
       "38     TECHNOLOGY  \n",
       "39     TECHNOLOGY  "
      ]
     },
     "execution_count": 34,
     "metadata": {},
     "output_type": "execute_result"
    }
   ],
   "source": [
    "# Indices of the dataframe to use\n",
    "start_index = 30\n",
    "end_index = 40\n",
    "\n",
    "# Sample titles to label\n",
    "train_df[['title']][start_index:end_index]\n",
    "\n",
    "# # When you're done, uncomment the next line to see the 'true' labels \n",
    "train_df[['title', 'topic']][start_index:end_index]"
   ]
  },
  {
   "cell_type": "code",
   "execution_count": 35,
   "metadata": {},
   "outputs": [
    {
     "name": "stdout",
     "output_type": "stream",
     "text": [
      "Model: \"sequential_1\"\n",
      "_________________________________________________________________\n",
      " Layer (type)                Output Shape              Param #   \n",
      "=================================================================\n",
      " embedding_1 (Embedding)     (None, 20, 24)            240000    \n",
      "                                                                 \n",
      " dense_2 (Dense)             (None, 20, 24)            600       \n",
      "                                                                 \n",
      " flatten_1 (Flatten)         (None, 480)               0         \n",
      "                                                                 \n",
      " dense_3 (Dense)             (None, 8)                 3848      \n",
      "                                                                 \n",
      "=================================================================\n",
      "Total params: 244448 (954.88 KB)\n",
      "Trainable params: 244448 (954.88 KB)\n",
      "Non-trainable params: 0 (0.00 Byte)\n",
      "_________________________________________________________________\n"
     ]
    }
   ],
   "source": [
    "# Load the model\n",
    "model = tf.keras.models.load_model(model)\n",
    "\n",
    "# Show the model architecture\n",
    "model.summary()"
   ]
  },
  {
   "cell_type": "code",
   "execution_count": 36,
   "metadata": {},
   "outputs": [
    {
     "data": {
      "text/plain": [
       "{'optimizer': {'module': 'keras.optimizers',\n",
       "  'class_name': 'Adam',\n",
       "  'config': {'name': 'Adam',\n",
       "   'weight_decay': None,\n",
       "   'clipnorm': None,\n",
       "   'global_clipnorm': None,\n",
       "   'clipvalue': None,\n",
       "   'use_ema': False,\n",
       "   'ema_momentum': 0.99,\n",
       "   'ema_overwrite_frequency': None,\n",
       "   'jit_compile': False,\n",
       "   'is_legacy_optimizer': False,\n",
       "   'learning_rate': 0.0010000000474974513,\n",
       "   'beta_1': 0.9,\n",
       "   'beta_2': 0.999,\n",
       "   'epsilon': 1e-07,\n",
       "   'amsgrad': False},\n",
       "  'registered_name': None},\n",
       " 'loss': {'module': 'builtins',\n",
       "  'class_name': 'function',\n",
       "  'config': 'sparse_categorical_crossentropy',\n",
       "  'registered_name': 'function'},\n",
       " 'metrics': [[{'module': 'keras.metrics',\n",
       "    'class_name': 'MeanMetricWrapper',\n",
       "    'config': {'name': 'sparse_categorical_accuracy',\n",
       "     'dtype': 'float32',\n",
       "     'fn': {'module': 'builtins',\n",
       "      'class_name': 'function',\n",
       "      'config': 'sparse_categorical_accuracy',\n",
       "      'registered_name': 'function'}},\n",
       "    'registered_name': None}]],\n",
       " 'loss_weights': None,\n",
       " 'weighted_metrics': None,\n",
       " 'run_eagerly': None,\n",
       " 'steps_per_execution': None,\n",
       " 'jit_compile': None}"
      ]
     },
     "execution_count": 36,
     "metadata": {},
     "output_type": "execute_result"
    }
   ],
   "source": [
    "# Get info about compiling the model\n",
    "model.get_compile_config()"
   ]
  },
  {
   "cell_type": "code",
   "execution_count": 37,
   "metadata": {},
   "outputs": [
    {
     "data": {
      "text/plain": [
       "['ENTERTAINMENT',\n",
       " 'HEALTH',\n",
       " 'TECHNOLOGY',\n",
       " 'WORLD',\n",
       " 'BUSINESS',\n",
       " 'SPORTS',\n",
       " 'NATION',\n",
       " 'SCIENCE']"
      ]
     },
     "execution_count": 37,
     "metadata": {},
     "output_type": "execute_result"
    }
   ],
   "source": [
    "# Create a lookup list for the labels\n",
    "topic_lookup = tf.keras.layers.StringLookup(vocabulary=f'{vocab}/labels.txt', num_oov_indices=0)\n",
    "\n",
    "# Check the list of labels\n",
    "topic_lookup.get_vocabulary()"
   ]
  },
  {
   "cell_type": "code",
   "execution_count": 42,
   "metadata": {},
   "outputs": [
    {
     "name": "stdout",
     "output_type": "stream",
     "text": [
      "vocabulary size: 10000\n",
      "sample text: Dengue fever cases in Laos rise to 4256\n",
      "sample text (preprocessed): [4040 1979   30    2 9339  282    3    1    0    0    0    0    0    0\n",
      "    0    0    0    0    0    0]\n"
     ]
    }
   ],
   "source": [
    "# Title length and vocabulary size used by the team for the prototype\n",
    "MAX_LENGTH = 20\n",
    "VOCAB_SIZE = 10000\n",
    "\n",
    "# Instantiate a layer for text preprocessing\n",
    "title_preprocessor = tf.keras.layers.TextVectorization(max_tokens=VOCAB_SIZE, output_sequence_length=MAX_LENGTH)\n",
    "\n",
    "# Load the vocabulary file\n",
    "title_preprocessor.load_assets(vocab)\n",
    "\n",
    "# Check the vocabulary size\n",
    "print(f'vocabulary size: {title_preprocessor.vocabulary_size()}')\n",
    "\n",
    "# Get a sample title\n",
    "sample_title = train_df['title'][10]\n",
    "\n",
    "# Sample title in string format\n",
    "print(f\"sample text: {sample_title}\")\n",
    "\n",
    "# Sample title represented as an integer sequence\n",
    "print(f\"sample text (preprocessed): {title_preprocessor(sample_title)}\")"
   ]
  },
  {
   "cell_type": "code",
   "execution_count": 43,
   "metadata": {},
   "outputs": [
    {
     "name": "stdout",
     "output_type": "stream",
     "text": [
      "763/763 [==============================] - 2s 2ms/step - loss: 1.0202 - sparse_categorical_accuracy: 0.7778\n"
     ]
    },
    {
     "data": {
      "text/plain": [
       "[1.020175576210022, 0.7778187394142151]"
      ]
     },
     "execution_count": 43,
     "metadata": {},
     "output_type": "execute_result"
    }
   ],
   "source": [
    "# Convert the test dataframe to a tf dataset\n",
    "test_ds = isbn_utils.df_to_tfdata(test_df, topic_lookup, title_preprocessor)\n",
    "\n",
    "# Get the metrics\n",
    "model.evaluate(test_ds)"
   ]
  }
 ],
 "metadata": {
  "kernelspec": {
   "display_name": "tensorflow",
   "language": "python",
   "name": "python3"
  },
  "language_info": {
   "codemirror_mode": {
    "name": "ipython",
    "version": 3
   },
   "file_extension": ".py",
   "mimetype": "text/x-python",
   "name": "python",
   "nbconvert_exporter": "python",
   "pygments_lexer": "ipython3",
   "version": "3.8.20"
  }
 },
 "nbformat": 4,
 "nbformat_minor": 2
}
